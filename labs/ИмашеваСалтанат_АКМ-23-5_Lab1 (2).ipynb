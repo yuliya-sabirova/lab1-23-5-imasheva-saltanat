{
 "cells": [
  {
   "cell_type": "code",
   "execution_count": 1,
   "id": "24002649-7574-4b19-8d01-539d0c4c2e53",
   "metadata": {},
   "outputs": [
    {
     "name": "stdout",
     "output_type": "stream",
     "text": [
      "Итоговая стоимость товара: 238.14 руб.\n"
     ]
    }
   ],
   "source": [
    "#вариант 1, задача 1\n",
    "item_price = 250.5\n",
    "discount = 30\n",
    "tax_rate = 0.08\n",
    "total_price=(item_price-discount)*(1+tax_rate)\n",
    "print(f\"Итоговая стоимость товара: {total_price:.2f} руб.\")"
   ]
  },
  {
   "cell_type": "code",
   "execution_count": 3,
   "id": "57566a9c-38ca-4fd7-a94a-d6c190511764",
   "metadata": {},
   "outputs": [
    {
     "name": "stdout",
     "output_type": "stream",
     "text": [
      "Извлечённое слово: target\n"
     ]
    }
   ],
   "source": [
    "#вариант 1, задача 2\n",
    "data = [1, 2, {'user': 'admin', 'info': [10, 20, {'secret': 'target'}]}]\n",
    "third_element = data[2]\n",
    "info_list = third_element['info']\n",
    "third_info = info_list[2]\n",
    "target_word = third_info['secret']\n",
    "print(\"Извлечённое слово:\", target_word)"
   ]
  },
  {
   "cell_type": "code",
   "execution_count": 4,
   "id": "52f5e117-c3f8-4c15-92fd-98a53284a8a0",
   "metadata": {},
   "outputs": [
    {
     "name": "stdout",
     "output_type": "stream",
     "text": [
      "Температуры ниже 0: [-4, -1]\n",
      "Температуры от 0 до 19: [12, 18, 0, 15]\n",
      "Температуры выше 19: [25, 33]\n"
     ]
    }
   ],
   "source": [
    "#вариант 1, задача 3\n",
    "temperatures = [-4, 25, 12, 18, 0, 33, -1, 15]\n",
    "freezing = []\n",
    "cool = []\n",
    "warm = []\n",
    "for t in temperatures:\n",
    "    if t < 0:\n",
    "        freezing.append(t)      \n",
    "    elif t <= 19:\n",
    "        cool.append(t)        \n",
    "    else:\n",
    "        warm.append(t)     \n",
    "print(\"Температуры ниже 0:\", freezing)\n",
    "print(\"Температуры от 0 до 19:\", cool)\n",
    "print(\"Температуры выше 19:\", warm)"
   ]
  },
  {
   "cell_type": "code",
   "execution_count": 6,
   "id": "bd80f4e7-873f-41c9-95d9-05d35b7ddb02",
   "metadata": {},
   "outputs": [
    {
     "name": "stdout",
     "output_type": "stream",
     "text": [
      "Продажи 60000 -> бонус: 6000.0\n",
      "Продажи 30000 -> бонус: 1500.0\n",
      "Продажи 15000 -> бонус: 0\n"
     ]
    }
   ],
   "source": [
    "#вариант 1, задача 4\n",
    "def calculate_bonus(sales):\n",
    "    if sales > 50000:\n",
    "        bonus = sales * 0.10\n",
    "    elif sales >= 20000 and sales <= 50000:\n",
    "        bonus = sales * 0.05\n",
    "    else:\n",
    "        bonus = 0\n",
    "    return bonus\n",
    "print(\"Продажи 60000 -> бонус:\", calculate_bonus(60000))\n",
    "print(\"Продажи 30000 -> бонус:\", calculate_bonus(30000))\n",
    "print(\"Продажи 15000 -> бонус:\", calculate_bonus(15000))"
   ]
  },
  {
   "cell_type": "code",
   "execution_count": 7,
   "id": "105b1622-8ddd-4b1a-9712-952c6e3d6134",
   "metadata": {},
   "outputs": [
    {
     "name": "stdout",
     "output_type": "stream",
     "text": [
      "Цены выше 1000: [1020, 2100, 4000]\n"
     ]
    }
   ],
   "source": [
    "#вариант 1, задача 5\n",
    "prices = [1020, 550, 2100, 890, 4000, 350]\n",
    "expensive_items = list(filter(lambda price: price > 1000, prices))\n",
    "print(\"Цены выше 1000:\", expensive_items)"
   ]
  },
  {
   "cell_type": "code",
   "execution_count": 8,
   "id": "efaa6eff-21fb-4c77-b19a-e9b6fba57808",
   "metadata": {},
   "outputs": [
    {
     "name": "stdout",
     "output_type": "stream",
     "text": [
      "Лучшие сотрудники отдела Sales: ['Анна', 'Жанна']\n"
     ]
    }
   ],
   "source": [
    "#вариант 1, задача 6\n",
    "def get_top_performers(employees, performance_threshold):\n",
    "    top_performers = []\n",
    "    for emp in employees:\n",
    "        if emp['department'] == 'Sales' and emp['performance_score'] >= performance_threshold:\n",
    "            top_performers.append(emp['name'])  \n",
    "    return top_performers\n",
    "employees = [\n",
    "    {'name': 'Анна', 'department': 'Sales', 'performance_score': 85},\n",
    "    {'name': 'Алина', 'department': 'HR', 'performance_score': 90},\n",
    "    {'name': 'Арина', 'department': 'SMM', 'performance_score': 90},\n",
    "    {'name': 'Карина', 'department': 'Sales', 'performance_score': 70},\n",
    "    {'name': 'Жанна', 'department': 'Sales', 'performance_score': 92},]\n",
    "top_sales = get_top_performers(employees, 80)\n",
    "print(\"Лучшие сотрудники отдела Sales:\", top_sales)"
   ]
  },
  {
   "cell_type": "code",
   "execution_count": null,
   "id": "b263c668-dbe0-4cf1-a029-ed4189153d5c",
   "metadata": {},
   "outputs": [],
   "source": []
  }
 ],
 "metadata": {
  "kernelspec": {
   "display_name": "Python 3 (ipykernel)",
   "language": "python",
   "name": "python3"
  },
  "language_info": {
   "codemirror_mode": {
    "name": "ipython",
    "version": 3
   },
   "file_extension": ".py",
   "mimetype": "text/x-python",
   "name": "python",
   "nbconvert_exporter": "python",
   "pygments_lexer": "ipython3",
   "version": "3.13.5"
  }
 },
 "nbformat": 4,
 "nbformat_minor": 5
}
